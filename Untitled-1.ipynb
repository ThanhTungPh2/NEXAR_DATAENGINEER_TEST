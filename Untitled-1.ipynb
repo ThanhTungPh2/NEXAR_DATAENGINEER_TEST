{
 "cells": [
  {
   "cell_type": "code",
   "execution_count": 2,
   "metadata": {},
   "outputs": [
    {
     "data": {
      "text/plain": [
       "1    A\n",
       "2    B\n",
       "3    C\n",
       "4    D\n",
       "5    E\n",
       "dtype: object"
      ]
     },
     "execution_count": 2,
     "metadata": {},
     "output_type": "execute_result"
    }
   ],
   "source": [
    "import pandas as pd\n",
    "\n",
    "s = pd.Series(['A', 'B', 'C', 'D', 'E'], index=[1,2,3,4,5])\n",
    "s"
   ]
  },
  {
   "cell_type": "code",
   "execution_count": 16,
   "metadata": {},
   "outputs": [],
   "source": [
    "dict = {'state':['Ohio', 'Ohio', 'Ohio', 'Tokyo', 'American'],\n",
    "        'year':[2001,2002, 2002, 2001, 2000],'pop':[1.5, 1.6, 1.3, 1.9, 2.0]}\n",
    "df = pd.DataFrame(dict, columns=['year', 'state', 'pop', 'debt'], index=['one', 'two', 'three', 'four', 'five'])"
   ]
  },
  {
   "cell_type": "code",
   "execution_count": 17,
   "metadata": {},
   "outputs": [
    {
     "data": {
      "text/html": [
       "<div>\n",
       "<style scoped>\n",
       "    .dataframe tbody tr th:only-of-type {\n",
       "        vertical-align: middle;\n",
       "    }\n",
       "\n",
       "    .dataframe tbody tr th {\n",
       "        vertical-align: top;\n",
       "    }\n",
       "\n",
       "    .dataframe thead th {\n",
       "        text-align: right;\n",
       "    }\n",
       "</style>\n",
       "<table border=\"1\" class=\"dataframe\">\n",
       "  <thead>\n",
       "    <tr style=\"text-align: right;\">\n",
       "      <th></th>\n",
       "      <th>year</th>\n",
       "      <th>state</th>\n",
       "      <th>pop</th>\n",
       "      <th>debt</th>\n",
       "    </tr>\n",
       "  </thead>\n",
       "  <tbody>\n",
       "    <tr>\n",
       "      <th>one</th>\n",
       "      <td>2001</td>\n",
       "      <td>Ohio</td>\n",
       "      <td>1.5</td>\n",
       "      <td>NaN</td>\n",
       "    </tr>\n",
       "    <tr>\n",
       "      <th>two</th>\n",
       "      <td>2002</td>\n",
       "      <td>Ohio</td>\n",
       "      <td>1.6</td>\n",
       "      <td>NaN</td>\n",
       "    </tr>\n",
       "    <tr>\n",
       "      <th>three</th>\n",
       "      <td>2002</td>\n",
       "      <td>Ohio</td>\n",
       "      <td>1.3</td>\n",
       "      <td>NaN</td>\n",
       "    </tr>\n",
       "    <tr>\n",
       "      <th>four</th>\n",
       "      <td>2001</td>\n",
       "      <td>Tokyo</td>\n",
       "      <td>1.9</td>\n",
       "      <td>NaN</td>\n",
       "    </tr>\n",
       "    <tr>\n",
       "      <th>five</th>\n",
       "      <td>2000</td>\n",
       "      <td>American</td>\n",
       "      <td>2.0</td>\n",
       "      <td>NaN</td>\n",
       "    </tr>\n",
       "  </tbody>\n",
       "</table>\n",
       "</div>"
      ],
      "text/plain": [
       "       year     state  pop debt\n",
       "one    2001      Ohio  1.5  NaN\n",
       "two    2002      Ohio  1.6  NaN\n",
       "three  2002      Ohio  1.3  NaN\n",
       "four   2001     Tokyo  1.9  NaN\n",
       "five   2000  American  2.0  NaN"
      ]
     },
     "execution_count": 17,
     "metadata": {},
     "output_type": "execute_result"
    }
   ],
   "source": [
    "df"
   ]
  },
  {
   "cell_type": "code",
   "execution_count": 34,
   "metadata": {},
   "outputs": [
    {
     "data": {
      "text/html": [
       "<div>\n",
       "<style scoped>\n",
       "    .dataframe tbody tr th:only-of-type {\n",
       "        vertical-align: middle;\n",
       "    }\n",
       "\n",
       "    .dataframe tbody tr th {\n",
       "        vertical-align: top;\n",
       "    }\n",
       "\n",
       "    .dataframe thead th {\n",
       "        text-align: right;\n",
       "    }\n",
       "</style>\n",
       "<table border=\"1\" class=\"dataframe\">\n",
       "  <thead>\n",
       "    <tr style=\"text-align: right;\">\n",
       "      <th></th>\n",
       "      <th>year</th>\n",
       "      <th>state</th>\n",
       "      <th>pop</th>\n",
       "      <th>debt</th>\n",
       "    </tr>\n",
       "  </thead>\n",
       "  <tbody>\n",
       "    <tr>\n",
       "      <th>two</th>\n",
       "      <td>2002</td>\n",
       "      <td>Ohio</td>\n",
       "      <td>1.6</td>\n",
       "      <td>NaN</td>\n",
       "    </tr>\n",
       "  </tbody>\n",
       "</table>\n",
       "</div>"
      ],
      "text/plain": [
       "     year state  pop debt\n",
       "two  2002  Ohio  1.6  NaN"
      ]
     },
     "execution_count": 34,
     "metadata": {},
     "output_type": "execute_result"
    }
   ],
   "source": [
    "df.iloc[[1]]"
   ]
  },
  {
   "cell_type": "markdown",
   "metadata": {},
   "source": [
    "**Refreshing Variable (Biến làm mới):**\n",
    " Được sử dụng để cập nhật giá trị của biến từ một truy vấn SQL hoặc một biểu thức.\n",
    " Ví dụ, bạn có thể sử dụng biến này để lấy giá trị từ một bảng dữ liệu và lưu trữ nó trong biến.\n",
    "    `SELECT MAX(order_date) FROM orders;` \n",
    "    \n",
    "**Declare Variable (Khai báo biến):**\n",
    "    \n",
    " Được sử dụng để khai báo biến và thiết lập giá trị ban đầu của nó.\n",
    " Thường được sử dụng trong các kịch bản phức tạp, nơi biến cần được khởi tạo trước khi sử dụng trong các bước khác.\n",
    "    \n",
    "    `DECLARE v_order_date DATE;` \n",
    "    \n",
    "**Set Variable (Thiết lập biến):**\n",
    "    \n",
    " Được sử dụng để thiết lập hoặc cập nhật giá trị của biến.\n",
    " Bạn có thể sử dụng biểu thức hoặc giá trị cố định để thiết lập giá trị của biến.\n",
    "    \n",
    "    `SET v_order_date = '2023-01-01';` \n",
    "    \n",
    "**Evaluate Variable (Đánh giá biến):**\n",
    "    \n",
    " Được sử dụng để đánh giá điều kiện và quyết định luồng điều khiển dựa trên giá trị của biến.\n",
    " Thường được sử dụng trong các bước điều kiện (conditional steps) để kiểm tra giá trị của biến và quyết định bước tiếp theo.\n",
    "    \n",
    "    `IF v_order_date > '2023-01-01' THEN\n",
    "       -- Execute some step\n",
    "    END IF;` \n",
    "    \n",
    "**Increment Variable (Tăng biến):**\n",
    "    \n",
    " Được sử dụng để tăng giá trị của biến, thường được sử dụng trong các vòng lặp (loops).\n",
    " Biến này thường là số nguyên và được tăng lên một giá trị xác định trong mỗi lần lặp.\n",
    "    \n",
    "    `SET v_counter = v_counter + 1;` \n",
    "    \n",
    "**Global Variable (Biến toàn cục):**\n",
    "    \n",
    " Được sử dụng để lưu trữ giá trị có thể truy cập và sử dụng bởi bất kỳ thành phần nào trong ODI.\n",
    " Giá trị của biến toàn cục có thể được chia sẻ giữa các gói (packages) và kịch bản (scenarios).\n",
    "    \n",
    "    `v_global_variable = 'some_value';` \n",
    "    \n",
    "**Session Variable (Biến phiên làm việc):**\n",
    "    \n",
    " Được sử dụng để lưu trữ giá trị có hiệu lực trong suốt phiên làm việc của ODI.\n",
    " Biến này thường được sử dụng để lưu trữ thông tin phiên làm việc tạm thời.\n",
    "    \n",
    "    `v_session_variable = 'temporary_value';` \n",
    "    \n",
    "\n",
    "Các biến này giúp kiểm soát luồng dữ liệu và thực hiện các tác vụ khác nhau trong ODI, từ việc làm mới dữ liệu đến quyết định luồng điều khiển dựa trên các điều kiện."
   ]
  }
 ],
 "metadata": {
  "kernelspec": {
   "display_name": "Python 3",
   "language": "python",
   "name": "python3"
  },
  "language_info": {
   "codemirror_mode": {
    "name": "ipython",
    "version": 3
   },
   "file_extension": ".py",
   "mimetype": "text/x-python",
   "name": "python",
   "nbconvert_exporter": "python",
   "pygments_lexer": "ipython3",
   "version": "3.12.4"
  }
 },
 "nbformat": 4,
 "nbformat_minor": 2
}
